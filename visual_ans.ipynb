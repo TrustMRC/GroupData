{
 "cells": [
  {
   "cell_type": "code",
   "execution_count": 6,
   "metadata": {},
   "outputs": [],
   "source": [
    "# visual answers\n",
    "import json\n",
    "refined_dataset = json.load(open('refine_dataset.json'))"
   ]
  },
  {
   "cell_type": "code",
   "execution_count": 7,
   "metadata": {},
   "outputs": [],
   "source": [
    "def insert2refined_dataset(line:str):\n",
    "    data = line.rstrip().split(\"\\t\")\n",
    "    id = data[0]\n",
    "    ans = data[1]\n",
    "    rationale = [int(v) for v in data[2].split(',')]\n",
    "    for i in range(len(refined_dataset)):\n",
    "        for j in range(len(refined_dataset[i])):\n",
    "            if str(refined_dataset[i][j]['id']) == id:\n",
    "                refined_dataset[i][j]['ans'] = ans\n",
    "                refined_dataset[i][j]['rationale'] = rationale\n",
    "                refined_dataset[i][j]['rationale_text'] = [refined_dataset[i][j]['context'][idx] for idx in rationale]\n",
    "                return"
   ]
  },
  {
   "cell_type": "code",
   "execution_count": 8,
   "metadata": {},
   "outputs": [],
   "source": [
    "for line in open('new_result_.txt','r').readlines():\n",
    "    insert2refined_dataset(line)"
   ]
  },
  {
   "cell_type": "code",
   "execution_count": 9,
   "metadata": {},
   "outputs": [],
   "source": [
    "with open('result.json','w') as f:\n",
    "    json.dump(refined_dataset,f,indent=4,ensure_ascii=False)"
   ]
  },
  {
   "cell_type": "code",
   "execution_count": null,
   "metadata": {},
   "outputs": [],
   "source": []
  }
 ],
 "metadata": {
  "kernelspec": {
   "display_name": "Python 3.8.13 ('DocRED')",
   "language": "python",
   "name": "python3"
  },
  "language_info": {
   "codemirror_mode": {
    "name": "ipython",
    "version": 3
   },
   "file_extension": ".py",
   "mimetype": "text/x-python",
   "name": "python",
   "nbconvert_exporter": "python",
   "pygments_lexer": "ipython3",
   "version": "3.8.13"
  },
  "orig_nbformat": 4,
  "vscode": {
   "interpreter": {
    "hash": "a122494871ff66f22689dd27411b6f9b224429266c3689c062961e2d5178a3e4"
   }
  }
 },
 "nbformat": 4,
 "nbformat_minor": 2
}
