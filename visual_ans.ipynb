{
 "cells": [
  {
   "cell_type": "code",
   "execution_count": 1,
   "metadata": {},
   "outputs": [],
   "source": [
    "# visual answers\n",
    "import json\n",
    "refined_dataset = json.load(open('refine_dataset.json'))"
   ]
  },
  {
   "cell_type": "code",
   "execution_count": 2,
   "metadata": {},
   "outputs": [],
   "source": [
    "def insert2refined_dataset(line:str):\n",
    "    data = line.rstrip().split(\"\\t\")\n",
    "    id = data[0]\n",
    "    ans = data[1]\n",
    "    rationale = [int(v) for v in data[2].split(',')]\n",
    "    for i in range(len(refined_dataset)):\n",
    "        for j in range(len(refined_dataset[i])):\n",
    "            if str(refined_dataset[i][j]['id']) == id:\n",
    "                refined_dataset[i][j]['ans'] = ans\n",
    "                refined_dataset[i][j]['rationale'] = rationale\n",
    "                refined_dataset[i][j]['rationale_text'] = [refined_dataset[i][j]['context'][idx] for idx in rationale]\n",
    "                return"
   ]
  },
  {
   "cell_type": "code",
   "execution_count": 3,
   "metadata": {},
   "outputs": [
    {
     "ename": "IndexError",
     "evalue": "string index out of range",
     "output_type": "error",
     "traceback": [
      "\u001b[0;31m---------------------------------------------------------------------------\u001b[0m",
      "\u001b[0;31mIndexError\u001b[0m                                Traceback (most recent call last)",
      "\u001b[1;32m/data/lyt/workspace/GroupData/visual_ans.ipynb Cell 3\u001b[0m in \u001b[0;36m<cell line: 1>\u001b[0;34m()\u001b[0m\n\u001b[1;32m      <a href='vscode-notebook-cell://ssh-remote%2B103.238.162.34/data/lyt/workspace/GroupData/visual_ans.ipynb#W2sdnNjb2RlLXJlbW90ZQ%3D%3D?line=0'>1</a>\u001b[0m \u001b[39mfor\u001b[39;00m line \u001b[39min\u001b[39;00m \u001b[39mopen\u001b[39m(\u001b[39m'\u001b[39m\u001b[39mysh.txt\u001b[39m\u001b[39m'\u001b[39m,\u001b[39m'\u001b[39m\u001b[39mr\u001b[39m\u001b[39m'\u001b[39m)\u001b[39m.\u001b[39mreadlines():\n\u001b[0;32m----> <a href='vscode-notebook-cell://ssh-remote%2B103.238.162.34/data/lyt/workspace/GroupData/visual_ans.ipynb#W2sdnNjb2RlLXJlbW90ZQ%3D%3D?line=1'>2</a>\u001b[0m     insert2refined_dataset(line)\n",
      "\u001b[1;32m/data/lyt/workspace/GroupData/visual_ans.ipynb Cell 3\u001b[0m in \u001b[0;36minsert2refined_dataset\u001b[0;34m(line)\u001b[0m\n\u001b[1;32m      <a href='vscode-notebook-cell://ssh-remote%2B103.238.162.34/data/lyt/workspace/GroupData/visual_ans.ipynb#W2sdnNjb2RlLXJlbW90ZQ%3D%3D?line=8'>9</a>\u001b[0m refined_dataset[i][j][\u001b[39m'\u001b[39m\u001b[39mans\u001b[39m\u001b[39m'\u001b[39m] \u001b[39m=\u001b[39m ans\n\u001b[1;32m     <a href='vscode-notebook-cell://ssh-remote%2B103.238.162.34/data/lyt/workspace/GroupData/visual_ans.ipynb#W2sdnNjb2RlLXJlbW90ZQ%3D%3D?line=9'>10</a>\u001b[0m refined_dataset[i][j][\u001b[39m'\u001b[39m\u001b[39mrationale\u001b[39m\u001b[39m'\u001b[39m] \u001b[39m=\u001b[39m rationale\n\u001b[0;32m---> <a href='vscode-notebook-cell://ssh-remote%2B103.238.162.34/data/lyt/workspace/GroupData/visual_ans.ipynb#W2sdnNjb2RlLXJlbW90ZQ%3D%3D?line=10'>11</a>\u001b[0m refined_dataset[i][j][\u001b[39m'\u001b[39m\u001b[39mrationale_text\u001b[39m\u001b[39m'\u001b[39m] \u001b[39m=\u001b[39m [refined_dataset[i][j][\u001b[39m'\u001b[39m\u001b[39mcontext\u001b[39m\u001b[39m'\u001b[39m][idx] \u001b[39mfor\u001b[39;00m idx \u001b[39min\u001b[39;00m rationale]\n\u001b[1;32m     <a href='vscode-notebook-cell://ssh-remote%2B103.238.162.34/data/lyt/workspace/GroupData/visual_ans.ipynb#W2sdnNjb2RlLXJlbW90ZQ%3D%3D?line=11'>12</a>\u001b[0m \u001b[39mreturn\u001b[39;00m\n",
      "\u001b[1;32m/data/lyt/workspace/GroupData/visual_ans.ipynb Cell 3\u001b[0m in \u001b[0;36m<listcomp>\u001b[0;34m(.0)\u001b[0m\n\u001b[1;32m      <a href='vscode-notebook-cell://ssh-remote%2B103.238.162.34/data/lyt/workspace/GroupData/visual_ans.ipynb#W2sdnNjb2RlLXJlbW90ZQ%3D%3D?line=8'>9</a>\u001b[0m refined_dataset[i][j][\u001b[39m'\u001b[39m\u001b[39mans\u001b[39m\u001b[39m'\u001b[39m] \u001b[39m=\u001b[39m ans\n\u001b[1;32m     <a href='vscode-notebook-cell://ssh-remote%2B103.238.162.34/data/lyt/workspace/GroupData/visual_ans.ipynb#W2sdnNjb2RlLXJlbW90ZQ%3D%3D?line=9'>10</a>\u001b[0m refined_dataset[i][j][\u001b[39m'\u001b[39m\u001b[39mrationale\u001b[39m\u001b[39m'\u001b[39m] \u001b[39m=\u001b[39m rationale\n\u001b[0;32m---> <a href='vscode-notebook-cell://ssh-remote%2B103.238.162.34/data/lyt/workspace/GroupData/visual_ans.ipynb#W2sdnNjb2RlLXJlbW90ZQ%3D%3D?line=10'>11</a>\u001b[0m refined_dataset[i][j][\u001b[39m'\u001b[39m\u001b[39mrationale_text\u001b[39m\u001b[39m'\u001b[39m] \u001b[39m=\u001b[39m [refined_dataset[i][j][\u001b[39m'\u001b[39;49m\u001b[39mcontext\u001b[39;49m\u001b[39m'\u001b[39;49m][idx] \u001b[39mfor\u001b[39;00m idx \u001b[39min\u001b[39;00m rationale]\n\u001b[1;32m     <a href='vscode-notebook-cell://ssh-remote%2B103.238.162.34/data/lyt/workspace/GroupData/visual_ans.ipynb#W2sdnNjb2RlLXJlbW90ZQ%3D%3D?line=11'>12</a>\u001b[0m \u001b[39mreturn\u001b[39;00m\n",
      "\u001b[0;31mIndexError\u001b[0m: string index out of range"
     ]
    }
   ],
   "source": [
    "for line in open('new_result_.txt','r').readlines():\n",
    "    insert2refined_dataset(line)"
   ]
  },
  {
   "cell_type": "code",
   "execution_count": null,
   "metadata": {},
   "outputs": [],
   "source": [
    "with open('result.json','w') as f:\n",
    "    json.dump(refined_dataset,f,indent=4,ensure_ascii=False)"
   ]
  },
  {
   "cell_type": "code",
   "execution_count": null,
   "metadata": {},
   "outputs": [
    {
     "name": "stdout",
     "output_type": "stream",
     "text": [
      "[1, 2, 3, 4]\n"
     ]
    }
   ],
   "source": [
    "test = [1,2,3,4]\n",
    "for i in test:\n",
    "    i = i*2\n",
    "print(test)"
   ]
  },
  {
   "cell_type": "code",
   "execution_count": null,
   "metadata": {},
   "outputs": [],
   "source": []
  }
 ],
 "metadata": {
  "kernelspec": {
   "display_name": "Python 3.8.13 ('DocRED')",
   "language": "python",
   "name": "python3"
  },
  "language_info": {
   "codemirror_mode": {
    "name": "ipython",
    "version": 3
   },
   "file_extension": ".py",
   "mimetype": "text/x-python",
   "name": "python",
   "nbconvert_exporter": "python",
   "pygments_lexer": "ipython3",
   "version": "3.8.13"
  },
  "orig_nbformat": 4,
  "vscode": {
   "interpreter": {
    "hash": "a122494871ff66f22689dd27411b6f9b224429266c3689c062961e2d5178a3e4"
   }
  }
 },
 "nbformat": 4,
 "nbformat_minor": 2
}
